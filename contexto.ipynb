{
 "cells": [
  {
   "cell_type": "markdown",
   "id": "f9120adb-033f-4e8f-b1d2-0201767335a2",
   "metadata": {},
   "source": [
    "# Contexto\n",
    "\n",
    "O **tipo** Contexto é definido para transporta prazos, sinais de cancelamento, e outros valores do **escopo de uma requisição** entre fronteiras de uma API e **entre processos**.\n",
    "\n",
    "Exemplo: Uma chamada a um servidor HTTP inicia um contexto, este contexto é propagado através das chamadas a serviços externos ou banco de dados. Se gorrotinas forem lançadas, o contexto deve ser propagado para elas.\n",
    "\n",
    "Esta cadeia de chamadas que ocorre deve propagar o contexto, podendo substitui-lo por um contexto derivado com sinal de cancelamento (WithCancel), com prazos (WithTimeout, WithDeadline) ou carregando valores (WithValue).\n",
    "\n",
    "É definida através de uma **interface** que define os seguintes métodos:\n",
    "\n",
    "\n",
    "`Deadline() (deadline time.Time, ok bool)` \n",
    "\n",
    "Retorna o momento (deadline) que o contexto deve ser cancelado. \n",
    "Contextos que não tenham prazo retornam ok como false.\n",
    "\n",
    "\n",
    "`Done() <-chan struct{}` \n",
    "\n",
    "Done devolve um canal que é fechado quando o trabalho efetuado em nome deste contexto deve ser cancelado.\n",
    "Quando um cancelamento for invocado ou um prazo for atingido o canal deve ser cancelado.\n",
    "\n",
    "\n",
    "`Err() error` \n",
    "\n",
    "Se o canal **Done** não foi fechado ainda então `nil` é retornado, senão, um erro é retornado explicando o porquê. \n",
    "\n",
    "`Value(key any) any` \n",
    "\n",
    "Devolve o valor associado a este contexto para key, ou nil se não existir nenhum valor associado a key.\n",
    "Obs: não utilize para passar parâmetros opicionais para funções.\n",
    "\n",
    "\n",
    "Fonte: https://cs.opensource.google/go/go/+/refs/tags/go1.24.2:src/context/context.go"
   ]
  },
  {
   "cell_type": "code",
   "execution_count": 29,
   "id": "56c7ada0-bbf3-4373-9343-2b286cf36892",
   "metadata": {},
   "outputs": [],
   "source": [
    "// ...\n",
    "type Context interface {\n",
    "\tDeadline() (deadline time.Time, ok bool)\n",
    "\tDone() <-chan struct{}\n",
    "\tErr() error\n",
    "\tValue(key any) any\n",
    "}\n",
    "// ..."
   ]
  },
  {
   "cell_type": "markdown",
   "id": "1cdb30f1-40f7-485d-9a0e-9f66f7995480",
   "metadata": {},
   "source": [
    "## Qual a diferença entre context.TODO e context.Background\n",
    "\n",
    "**Resposta**\n",
    "\n",
    "O *context.TODO* e *Context.Background* são idênticos e possuem a mesma base comum que é um contexto vazio (*emptyCtx*). Um contexto vazio não é cancelável, não possui valores e não possui prazo (deadline).\n",
    "\n",
    "Utilizamos o *TODO* quando não é claro qual o contexto a utilizar ou quando este ainda não está disponível, já o Background é tipicamente utilizado pela função principal, inicialização e testes, e como contexto de nível superior para requisições recebidas.\n",
    "\n",
    "Fonte: https://cs.opensource.google/go/go/+/refs/tags/go1.24.2:src/context/context.go;l=179-225"
   ]
  },
  {
   "cell_type": "markdown",
   "id": "326ac77d-2682-4d59-8861-53854f17bd74",
   "metadata": {},
   "source": [
    "## Passagem de valor em um contexto\n",
    "\n",
    "Um contexto pode carregar um valor associado a uma chave, por exemplo um id de correlação utilizado em rastros distribuídos ou um usuário do sistema."
   ]
  },
  {
   "cell_type": "code",
   "execution_count": 30,
   "id": "89caa4a6-ffac-45c8-98f1-e789a60c37c7",
   "metadata": {},
   "outputs": [
    {
     "name": "stdout",
     "output_type": "stream",
     "text": [
      "A chave de correlação é 0196845e-3337-71e2-bd00-523181774dea"
     ]
    }
   ],
   "source": [
    "// Não exportado para previnir colisões com chaves definidas em outros pacotes\n",
    "type contextKey string\n",
    "var  correlationIDKey = contextKey(\"correlationID\")\n",
    "%%\n",
    "ctx := context.WithValue(context.Background(), correlationIDKey, \"0196845e-3337-71e2-bd00-523181774dea\")\n",
    "\n",
    "// É necessário a conversão do valor para seu tipo original\n",
    "fmt.Printf(\"A chave de correlação é %s\", ctx.Value(correlationIDKey).(string))"
   ]
  },
  {
   "cell_type": "code",
   "execution_count": 31,
   "id": "174f4759-37a0-4dca-a776-9726fa4e68c9",
   "metadata": {},
   "outputs": [
    {
     "name": "stdout",
     "output_type": "stream",
     "text": [
      "João\n"
     ]
    }
   ],
   "source": [
    "// User é o tipo de valor armazenado nos Contexts.\n",
    "type User struct {\n",
    "    name string\n",
    "}\n",
    "\t\n",
    "// key é um tipo não exportado para chaves definidas neste pacote.\n",
    "// Isso previne colisões com chaves definidas em outros pacotes.\n",
    "type key int\n",
    "\n",
    "// userKey é a chave para valores do tipo user.User em Contexts. Ela é\n",
    "// não exportada; os clientes devem usar user.NewContext e user.FromContext\n",
    "// ao invés de usar essa chave diretamente.\n",
    "var userKey key\n",
    "\n",
    "// NewContext retorna um novo Context que carrega o valor u.\n",
    "func NewContext(ctx context.Context, u *User) context.Context {\n",
    "    return context.WithValue(ctx, userKey, u)\n",
    "}\n",
    "\n",
    "// FromContext retorna o valor User armazenado em ctx, se houver.\n",
    "func FromContext(ctx context.Context) (*User, bool) {\n",
    "    u, ok := ctx.Value(userKey).(*User)\n",
    "    return u, ok\n",
    "}\n",
    "\n",
    "%%\n",
    "ctx := NewContext(context.Background(), &User{name: \"João\"})\n",
    "user, ok := FromContext(ctx)\n",
    "if ok{\n",
    "    fmt.Println(user.name)    \n",
    "}\n"
   ]
  },
  {
   "cell_type": "markdown",
   "id": "d66de1d1-5c58-4b3e-b9c0-8201f5a83c21",
   "metadata": {},
   "source": [
    "## Cancelamento\n",
    "\n",
    "Um contexto com cancelamento, possui uma função de cancelamento que indica que o trabalho executado em seu contexto deve ser interrompido.\n",
    "\n",
    "Após a primeira chamada, as subsequentes a função de cancelamento não irão fazer nada."
   ]
  },
  {
   "cell_type": "code",
   "execution_count": 39,
   "id": "a75aa058-ac84-4dab-85a5-a07671414431",
   "metadata": {},
   "outputs": [
    {
     "name": "stdout",
     "output_type": "stream",
     "text": [
      "1\n",
      "2\n",
      "3\n",
      "4\n",
      "5\n"
     ]
    }
   ],
   "source": [
    "%%\n",
    "// gen gera números inteiros em uma goroutine separada e\n",
    "// os envia para o canal retornado.\n",
    "// Os chamadores de gen precisam cancelar o contexto assim que\n",
    "// terminarem de consumir os números inteiros gerados, para não vazar\n",
    "// a goroutine interna iniciada por gen.\n",
    "gen := func(ctx context.Context) <-chan int {\n",
    "\tdst := make(chan int)\n",
    "\tn := 1\n",
    "\tgo func() {\n",
    "        defer close(dst)\n",
    "\t\tfor {\n",
    "\t\t\tselect {\n",
    "\t\t\tcase <-ctx.Done():\n",
    "\t\t\t\treturn // retorna para não vazar a goroutine\n",
    "\t\t\tcase dst <- n:\n",
    "\t\t\t\tn++\n",
    "\t\t\t}\n",
    "\t\t}\n",
    "\t}()\n",
    "\treturn dst\n",
    "}\n",
    "\n",
    "ctx, cancel := context.WithCancel(context.Background())\n",
    "defer cancel() // cancelar quando terminarmos de consumir os inteiros\n",
    "\n",
    "for n := range gen(ctx) {\n",
    "\tfmt.Println(n)\n",
    "    // Descomente para cancelar o contexto antes da hora\n",
    "    //if n == 3 {\n",
    "    //    cancel() \n",
    "    //}\n",
    "\tif n == 5 {\n",
    "\t\tbreak\n",
    "\t}\n",
    "}"
   ]
  },
  {
   "cell_type": "markdown",
   "id": "30f6cf4c-3615-4e5e-bbd5-2a90d1c7a882",
   "metadata": {},
   "source": [
    "## Qual a diferença de timeout e deadline?\n",
    "\n",
    "**Resposta**\n",
    "\n",
    "O contexto `WithTimeout` na verdade é um `WithDeadline` onde o prazo (deadline) é o momento atual incremento do **timeout**.\n",
    "\n",
    "O contexto com prazo (WithDeadline) quando atinge o seu momento, realiza o cancelamento do contexto fechando o canal `Done`.\n",
    "\n",
    "Use WithTimeout se você quer algo como \"me dê a resposta em até X segundos\",e WithDeadline se você quer algo como \"me dê a resposta até exatamente TAL hora\".\n",
    "\n",
    "Fonte: https://cs.opensource.google/go/go/+/refs/tags/go1.24.2:src/context/context.go;l=694-696"
   ]
  },
  {
   "cell_type": "code",
   "execution_count": 49,
   "id": "20caf602-58f8-49cd-bbf6-e22d6cc6882d",
   "metadata": {},
   "outputs": [
    {
     "name": "stdout",
     "output_type": "stream",
     "text": [
      "context deadline exceeded\n"
     ]
    }
   ],
   "source": [
    "var ( \n",
    "    neverReady = make(chan struct{}) // jamais fechado\n",
    "    shortDuration    = 1 * time.Millisecond\n",
    ")\n",
    "%%\n",
    "d := time.Now().Add(shortDuration)\n",
    "ctx, cancel := context.WithDeadline(context.Background(), d)\n",
    "\n",
    "// Mesmo que ctx vá expirar, é uma boa prática chamar sua função\n",
    "// de cancelamento de qualquer forma. Deixar de fazer isso pode manter\n",
    "// o contexto e seu pai vivos por mais tempo do que o necessário.\n",
    "defer cancel()\n",
    "\n",
    "select {\n",
    "case <-neverReady:\n",
    "    fmt.Println(\"ready\")\n",
    "case <-ctx.Done():\n",
    "    fmt.Println(ctx.Err())\n",
    "}"
   ]
  },
  {
   "cell_type": "code",
   "execution_count": 50,
   "id": "c13fd20a-fbda-4584-9338-0200e6315609",
   "metadata": {},
   "outputs": [
    {
     "name": "stdout",
     "output_type": "stream",
     "text": [
      "context deadline exceeded\n"
     ]
    }
   ],
   "source": [
    "%%\n",
    "ctx, cancel := context.WithTimeout(context.Background(), shortDuration)\n",
    "\n",
    "// Mesmo que ctx vá expirar, é uma boa prática chamar sua função\n",
    "// de cancelamento de qualquer forma. Deixar de fazer isso pode manter\n",
    "// o contexto e seu pai vivos por mais tempo do que o necessário.\n",
    "defer cancel()\n",
    "\n",
    "select {\n",
    "case <-neverReady:\n",
    "    fmt.Println(\"ready\")\n",
    "case <-ctx.Done():\n",
    "    fmt.Println(ctx.Err())\n",
    "}"
   ]
  },
  {
   "cell_type": "markdown",
   "id": "997c79d7-f833-43d6-b5f0-70fbdfe9649b",
   "metadata": {},
   "source": [
    "## Causa de um cancelamento\n",
    "\n",
    "Quando um contexto é cancelado, o erro indica que um contexto foi cancelado, mas não especifica a razão exata.\n",
    "\n",
    "Desde a versão 1.21, agora podemos criar um contexto usando `context.WithCancelCause()`. A função de cancelamento `cancel` irá aceitar um único parâmetro que é a causa raiz do cancelamento (error).\n",
    "\n",
    "Existe uma variante com causa para os contextos canceláveis: `WithCancelCause`, `WithTimeoutCause` e `WithDeadlineCause`."
   ]
  },
  {
   "cell_type": "code",
   "execution_count": 56,
   "id": "5964283d-e3d4-4ebb-8bde-e454b90bfb75",
   "metadata": {},
   "outputs": [
    {
     "name": "stdout",
     "output_type": "stream",
     "text": [
      "Erro:  context canceled\n",
      "Causa:  the night is dark\n"
     ]
    }
   ],
   "source": [
    "%%\n",
    "ctx, cancel := context.WithCancelCause(context.Background())\n",
    "cancel(errors.New(\"the night is dark\"))\n",
    "\n",
    "fmt.Println(\"Erro: \", ctx.Err())\n",
    "fmt.Println(\"Causa: \", context.Cause(ctx))"
   ]
  },
  {
   "cell_type": "code",
   "execution_count": 58,
   "id": "cbb98262-056e-4a28-8e27-b9ad8ec34466",
   "metadata": {},
   "outputs": [
    {
     "name": "stdout",
     "output_type": "stream",
     "text": [
      "context deadline exceeded\n",
      "the night is dark\n"
     ]
    }
   ],
   "source": [
    "%%\n",
    "cause := errors.New(\"the night is dark\")\n",
    "ctx, cancel := context.WithTimeoutCause(\n",
    "    context.Background(), 10*time.Millisecond, cause,\n",
    ")\n",
    "defer cancel()\n",
    "\n",
    "time.Sleep(50 * time.Millisecond)\n",
    "fmt.Println(ctx.Err())\n",
    "// context deadline exceeded\n",
    "fmt.Println(context.Cause(ctx))\n",
    "// the night is dark"
   ]
  },
  {
   "cell_type": "markdown",
   "id": "9741c18a-3da0-497f-a7b6-ac6d41272d05",
   "metadata": {},
   "source": [
    "## Propagação de contexto\n",
    "\n",
    "O contexto deve ser propagado ao longo da cadeia de chamadas para que todas as funções envolvidas possam respeitar cancelamentos, prazos e valores associados à mesma operação.\n",
    "\n",
    "A propagação de contexto em Go permite que contextos derivados compartilhem o mesmo ciclo de vida de um contexto superior. Quando o contexto superior é cancelado — seja manualmente com cancel() ou automaticamente por timeout ou deadline — todos os contextos derivados também são cancelados automaticamente. Isso facilita o controle e a finalização coordenada de operações assíncronas, evitando vazamento de recursos como goroutines ou conexões abertas. Esse mecanismo é especialmente útil em aplicações concorrentes que precisam interromper múltiplas tarefas relacionadas de forma segura e eficiente.\n",
    "\n",
    "O cancelamento de um contexto derivado não afeta o contexto superior, pois a propagação ocorre apenas do superior para os derivados, e não no sentido inverso."
   ]
  },
  {
   "cell_type": "code",
   "execution_count": 59,
   "id": "b550fc87-4fc9-41ef-8611-c28a636c1849",
   "metadata": {},
   "outputs": [
    {
     "name": "stdout",
     "output_type": "stream",
     "text": [
      "Cancelando o contexto superior...\n",
      "Contexto Derivado 2 cancelado: context canceled\n",
      "Contexto Derivado 1 cancelado: context canceled\n"
     ]
    }
   ],
   "source": [
    "%%\n",
    "\n",
    "// Criando o contexto superior com cancelamento\n",
    "ctxSuperior, cancel := context.WithCancel(context.Background())\n",
    "\n",
    "// Criando dois contextos derivados do contexto superior\n",
    "ctxDerivado1, _ := context.WithCancel(ctxSuperior)\n",
    "ctxDerivado2, _ := context.WithCancel(ctxSuperior)\n",
    "\n",
    "// Função para simular trabalho com um contexto\n",
    "doWork := func(ctx context.Context, nome string) {\n",
    "    select {\n",
    "    case <-ctx.Done():\n",
    "        fmt.Printf(\"%s cancelado: %v\\n\", nome, ctx.Err())\n",
    "    case <-time.After(3 * time.Second):\n",
    "        fmt.Printf(\"%s completou sem cancelamento\\n\", nome)\n",
    "    }\n",
    "}\n",
    "\n",
    "// Iniciando goroutines com os contextos derivados\n",
    "go doWork(ctxDerivado1, \"Contexto Derivado 1\")\n",
    "go doWork(ctxDerivado2, \"Contexto Derivado 2\")\n",
    "\n",
    "// Espera 1 segundo e então cancela o contexto superior\n",
    "time.Sleep(1 * time.Second)\n",
    "fmt.Println(\"Cancelando o contexto superior...\")\n",
    "cancel()\n",
    "\n",
    "// Aguarda para que as goroutines imprimam o cancelamento\n",
    "time.Sleep(1 * time.Second)\n",
    "\n"
   ]
  },
  {
   "cell_type": "markdown",
   "id": "8c234c88-6be6-4b2c-87d7-1fb34b73de3a",
   "metadata": {},
   "source": [
    "## Dicas\n",
    "\n",
    "* Não armazene Contexts dentro de um tipo struct; em vez disso, passe o Context explicitamente para cada função que precisar dele. Isso é discutido mais a fundo em https://go.dev/blog/context-and-structs.\n",
    "* Não passe um Context nulo (nil), mesmo que uma função permita isso. Passe context.TODO se você não tiver certeza de qual Context usar.\n",
    "* Use os valores do context apenas para dados com escopo de requisição que transitam entre processos e APIs, e não para passar parâmetros opcionais para funções.\n",
    "* O mesmo Context pode ser passado para funções executando em diferentes goroutines; Contexts são seguros para uso simultâneo por múltiplas goroutines.\n",
    "* O Context deve ser o primeiro parâmetro, normalmente nomeado como ctx: func DoSomething(ctx context.Context, arg Arg) error "
   ]
  },
  {
   "cell_type": "markdown",
   "id": "309c5ec8-ef12-4bf7-9eb3-b743a19b1fcc",
   "metadata": {},
   "source": [
    "## Exemplos\n",
    "\n",
    "### Stream\n",
    "\n",
    "```go\n",
    "    // Stream gera valores com DoSomething e os envia para out\n",
    "    // até que DoSomething retorne um erro ou ctx.Done seja fechado.\n",
    "\tfunc Stream(ctx context.Context, out chan<- Value) error {\n",
    "\t  \tfor {\n",
    "\t  \t\tv, err := DoSomething(ctx)\n",
    "\t  \t\tif err != nil {\n",
    "\t  \t\t\treturn err\n",
    "\t  \t\t}\n",
    "\t  \t\tselect {\n",
    "\t  \t\tcase <-ctx.Done():\n",
    "\t  \t\t\treturn ctx.Err()\n",
    "\t  \t\tcase out <- v:\n",
    "\t  \t\t}\n",
    "\t  \t}\n",
    "\t}\n",
    "```\n",
    "\n",
    "### Fan-out\n",
    "```go\n",
    "// publicar tenta enviar um valor para o canal `saida` e utiliza um contexto com timeout\n",
    "// para garantir que a operação não dure mais do que o tempo especificado.\n",
    "func publicar(ctx context.Context, saida chan<- int, valor int, controle chan<- struct{}) {\n",
    "\t// Cria um contexto com timeout de 1 segundo\n",
    "\tctx, cancel := context.WithTimeout(ctx, 1*time.Second)\n",
    "\tdefer cancel()\n",
    "\n",
    "\tselect {\n",
    "\tcase <-ctx.Done():\n",
    "\t\t// Se o contexto expirar antes do envio, não faz nada\n",
    "\tcase saida <- valor:\n",
    "\t\t// Se o valor for enviado com sucesso antes do timeout\n",
    "\t}\n",
    "\tcontrole <- struct{}{}\n",
    "}\n",
    "\n",
    "func fanout(entrada <-chan int, saidas ...chan<- int) {\n",
    "\t// Canal para controlar o término das publicações\n",
    "\tcontrole := make(chan struct{}, len(saidas)*2) // capacidade para controle de todas as publicações\n",
    "\n",
    "\tfor valor := range entrada {\n",
    "\t\t// Publica o valor de entrada em todas as saídas\n",
    "\t\tfor _, saida := range saidas {\n",
    "\t\t\tgo publicar(context.Background(), saida, valor, controle)\n",
    "\t\t}\n",
    "\t\t// Aguarda o término de todas as publicações\n",
    "\t\tfor i := 0; i < len(saidas); i++ {\n",
    "\t\t\t<-controle\n",
    "\t\t}\n",
    "\t}\n",
    "\t// Como a entrada foi consumida, fecha os canais de saída\n",
    "\tfor _, saida := range saidas {\n",
    "\t\tclose(saida)\n",
    "\t}\n",
    "}\n",
    "\n",
    "```"
   ]
  },
  {
   "cell_type": "markdown",
   "id": "128f2420-1c31-4862-ba75-f53968b0e983",
   "metadata": {},
   "source": [
    "## Referências:\n",
    "* https://antonz.org/go-concurrency/context/\n",
    "* https://cs.opensource.google/go/go/+/refs/tags/go1.24.2:src/context/context.go\n",
    "* https://pkg.go.dev/context"
   ]
  },
  {
   "cell_type": "code",
   "execution_count": null,
   "id": "3bc58268-5cac-44b8-93ba-a705d82ace63",
   "metadata": {},
   "outputs": [],
   "source": []
  }
 ],
 "metadata": {
  "kernelspec": {
   "display_name": "Go (gonb)",
   "language": "go",
   "name": "gonb"
  },
  "language_info": {
   "codemirror_mode": "",
   "file_extension": ".go",
   "mimetype": "text/x-go",
   "name": "go",
   "nbconvert_exporter": "",
   "pygments_lexer": "",
   "version": "go1.24.2"
  }
 },
 "nbformat": 4,
 "nbformat_minor": 5
}
